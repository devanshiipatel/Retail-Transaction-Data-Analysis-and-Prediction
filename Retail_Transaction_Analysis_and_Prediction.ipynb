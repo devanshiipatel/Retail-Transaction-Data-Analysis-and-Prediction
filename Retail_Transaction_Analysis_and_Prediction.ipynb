{
 "cells": [
  {
   "cell_type": "markdown",
   "metadata": {},
   "source": [
    "## Devanshi Patel"
   ]
  },
  {
   "cell_type": "markdown",
   "metadata": {},
   "source": [
    "### Importing libraries"
   ]
  },
  {
   "cell_type": "code",
   "execution_count": 1,
   "metadata": {},
   "outputs": [],
   "source": [
    "# For mathematical operations\n",
    "import numpy as np\n",
    "\n",
    "# For data analysis\n",
    "import pandas as pd\n",
    "\n",
    "# For data visualization\n",
    "import matplotlib.pyplot as plt\n",
    "import seaborn as sns\n",
    "\n",
    "import calendar"
   ]
  },
  {
   "cell_type": "markdown",
   "metadata": {},
   "source": [
    "### Loading the dataset"
   ]
  },
  {
   "cell_type": "code",
   "execution_count": 2,
   "metadata": {},
   "outputs": [],
   "source": [
    "# Load train data\n",
    "df = pd.read_csv('tech_team_train.csv')\n",
    "\n",
    "# Load test data\n",
    "test_data = pd.read_csv('tech_team_test.csv')"
   ]
  },
  {
   "cell_type": "code",
   "execution_count": 3,
   "metadata": {},
   "outputs": [
    {
     "data": {
      "text/html": [
       "<div>\n",
       "<style scoped>\n",
       "    .dataframe tbody tr th:only-of-type {\n",
       "        vertical-align: middle;\n",
       "    }\n",
       "\n",
       "    .dataframe tbody tr th {\n",
       "        vertical-align: top;\n",
       "    }\n",
       "\n",
       "    .dataframe thead th {\n",
       "        text-align: right;\n",
       "    }\n",
       "</style>\n",
       "<table border=\"1\" class=\"dataframe\">\n",
       "  <thead>\n",
       "    <tr style=\"text-align: right;\">\n",
       "      <th></th>\n",
       "      <th>InvoiceNo</th>\n",
       "      <th>StockCode</th>\n",
       "      <th>Description</th>\n",
       "      <th>Quantity</th>\n",
       "      <th>InvoiceDate</th>\n",
       "      <th>UnitPrice</th>\n",
       "      <th>CustomerID</th>\n",
       "      <th>Country</th>\n",
       "    </tr>\n",
       "  </thead>\n",
       "  <tbody>\n",
       "    <tr>\n",
       "      <th>0</th>\n",
       "      <td>6141</td>\n",
       "      <td>1583</td>\n",
       "      <td>144</td>\n",
       "      <td>3</td>\n",
       "      <td>2011-05-06 16:54:00</td>\n",
       "      <td>3.75</td>\n",
       "      <td>14056.0</td>\n",
       "      <td>35</td>\n",
       "    </tr>\n",
       "    <tr>\n",
       "      <th>1</th>\n",
       "      <td>6349</td>\n",
       "      <td>1300</td>\n",
       "      <td>3682</td>\n",
       "      <td>6</td>\n",
       "      <td>2011-05-11 07:35:00</td>\n",
       "      <td>1.95</td>\n",
       "      <td>13098.0</td>\n",
       "      <td>35</td>\n",
       "    </tr>\n",
       "    <tr>\n",
       "      <th>2</th>\n",
       "      <td>16783</td>\n",
       "      <td>2178</td>\n",
       "      <td>1939</td>\n",
       "      <td>4</td>\n",
       "      <td>2011-11-20 13:20:00</td>\n",
       "      <td>5.95</td>\n",
       "      <td>15044.0</td>\n",
       "      <td>35</td>\n",
       "    </tr>\n",
       "    <tr>\n",
       "      <th>3</th>\n",
       "      <td>16971</td>\n",
       "      <td>2115</td>\n",
       "      <td>2983</td>\n",
       "      <td>1</td>\n",
       "      <td>2011-11-22 12:07:00</td>\n",
       "      <td>0.83</td>\n",
       "      <td>15525.0</td>\n",
       "      <td>35</td>\n",
       "    </tr>\n",
       "    <tr>\n",
       "      <th>4</th>\n",
       "      <td>6080</td>\n",
       "      <td>1210</td>\n",
       "      <td>2886</td>\n",
       "      <td>12</td>\n",
       "      <td>2011-05-06 09:00:00</td>\n",
       "      <td>1.65</td>\n",
       "      <td>13952.0</td>\n",
       "      <td>35</td>\n",
       "    </tr>\n",
       "    <tr>\n",
       "      <th>5</th>\n",
       "      <td>17388</td>\n",
       "      <td>495</td>\n",
       "      <td>3247</td>\n",
       "      <td>5</td>\n",
       "      <td>2011-11-27 12:52:00</td>\n",
       "      <td>1.65</td>\n",
       "      <td>15351.0</td>\n",
       "      <td>35</td>\n",
       "    </tr>\n",
       "    <tr>\n",
       "      <th>6</th>\n",
       "      <td>18494</td>\n",
       "      <td>165</td>\n",
       "      <td>3377</td>\n",
       "      <td>1</td>\n",
       "      <td>2011-12-08 20:01:00</td>\n",
       "      <td>1.25</td>\n",
       "      <td>12748.0</td>\n",
       "      <td>35</td>\n",
       "    </tr>\n",
       "    <tr>\n",
       "      <th>7</th>\n",
       "      <td>17109</td>\n",
       "      <td>2597</td>\n",
       "      <td>3435</td>\n",
       "      <td>1</td>\n",
       "      <td>2011-11-23 12:40:00</td>\n",
       "      <td>1.25</td>\n",
       "      <td>16255.0</td>\n",
       "      <td>35</td>\n",
       "    </tr>\n",
       "  </tbody>\n",
       "</table>\n",
       "</div>"
      ],
      "text/plain": [
       "   InvoiceNo  StockCode  Description  Quantity          InvoiceDate  \\\n",
       "0       6141       1583          144         3  2011-05-06 16:54:00   \n",
       "1       6349       1300         3682         6  2011-05-11 07:35:00   \n",
       "2      16783       2178         1939         4  2011-11-20 13:20:00   \n",
       "3      16971       2115         2983         1  2011-11-22 12:07:00   \n",
       "4       6080       1210         2886        12  2011-05-06 09:00:00   \n",
       "5      17388        495         3247         5  2011-11-27 12:52:00   \n",
       "6      18494        165         3377         1  2011-12-08 20:01:00   \n",
       "7      17109       2597         3435         1  2011-11-23 12:40:00   \n",
       "\n",
       "   UnitPrice  CustomerID  Country  \n",
       "0       3.75     14056.0       35  \n",
       "1       1.95     13098.0       35  \n",
       "2       5.95     15044.0       35  \n",
       "3       0.83     15525.0       35  \n",
       "4       1.65     13952.0       35  \n",
       "5       1.65     15351.0       35  \n",
       "6       1.25     12748.0       35  \n",
       "7       1.25     16255.0       35  "
      ]
     },
     "execution_count": 3,
     "metadata": {},
     "output_type": "execute_result"
    }
   ],
   "source": [
    "# Reading the first 8 values from dataset\n",
    "\n",
    "df.head(8)"
   ]
  },
  {
   "cell_type": "code",
   "execution_count": 4,
   "metadata": {},
   "outputs": [
    {
     "data": {
      "text/html": [
       "<div>\n",
       "<style scoped>\n",
       "    .dataframe tbody tr th:only-of-type {\n",
       "        vertical-align: middle;\n",
       "    }\n",
       "\n",
       "    .dataframe tbody tr th {\n",
       "        vertical-align: top;\n",
       "    }\n",
       "\n",
       "    .dataframe thead th {\n",
       "        text-align: right;\n",
       "    }\n",
       "</style>\n",
       "<table border=\"1\" class=\"dataframe\">\n",
       "  <thead>\n",
       "    <tr style=\"text-align: right;\">\n",
       "      <th></th>\n",
       "      <th>InvoiceNo</th>\n",
       "      <th>StockCode</th>\n",
       "      <th>Description</th>\n",
       "      <th>Quantity</th>\n",
       "      <th>InvoiceDate</th>\n",
       "      <th>UnitPrice</th>\n",
       "      <th>CustomerID</th>\n",
       "      <th>Country</th>\n",
       "    </tr>\n",
       "  </thead>\n",
       "  <tbody>\n",
       "    <tr>\n",
       "      <th>199995</th>\n",
       "      <td>19930</td>\n",
       "      <td>170</td>\n",
       "      <td>1953</td>\n",
       "      <td>-1</td>\n",
       "      <td>2011-05-12 10:29:00</td>\n",
       "      <td>1.65</td>\n",
       "      <td>14606.0</td>\n",
       "      <td>35</td>\n",
       "    </tr>\n",
       "    <tr>\n",
       "      <th>199996</th>\n",
       "      <td>9942</td>\n",
       "      <td>2075</td>\n",
       "      <td>3500</td>\n",
       "      <td>6</td>\n",
       "      <td>2011-07-27 14:21:00</td>\n",
       "      <td>2.08</td>\n",
       "      <td>12397.0</td>\n",
       "      <td>3</td>\n",
       "    </tr>\n",
       "    <tr>\n",
       "      <th>199997</th>\n",
       "      <td>15999</td>\n",
       "      <td>856</td>\n",
       "      <td>318</td>\n",
       "      <td>2</td>\n",
       "      <td>2011-11-11 10:49:00</td>\n",
       "      <td>3.75</td>\n",
       "      <td>17295.0</td>\n",
       "      <td>35</td>\n",
       "    </tr>\n",
       "    <tr>\n",
       "      <th>199998</th>\n",
       "      <td>3833</td>\n",
       "      <td>441</td>\n",
       "      <td>2424</td>\n",
       "      <td>1</td>\n",
       "      <td>2011-03-11 13:03:00</td>\n",
       "      <td>0.85</td>\n",
       "      <td>15311.0</td>\n",
       "      <td>35</td>\n",
       "    </tr>\n",
       "    <tr>\n",
       "      <th>199999</th>\n",
       "      <td>13431</td>\n",
       "      <td>930</td>\n",
       "      <td>1128</td>\n",
       "      <td>12</td>\n",
       "      <td>2011-10-05 15:52:00</td>\n",
       "      <td>0.42</td>\n",
       "      <td>12723.0</td>\n",
       "      <td>13</td>\n",
       "    </tr>\n",
       "  </tbody>\n",
       "</table>\n",
       "</div>"
      ],
      "text/plain": [
       "        InvoiceNo  StockCode  Description  Quantity          InvoiceDate  \\\n",
       "199995      19930        170         1953        -1  2011-05-12 10:29:00   \n",
       "199996       9942       2075         3500         6  2011-07-27 14:21:00   \n",
       "199997      15999        856          318         2  2011-11-11 10:49:00   \n",
       "199998       3833        441         2424         1  2011-03-11 13:03:00   \n",
       "199999      13431        930         1128        12  2011-10-05 15:52:00   \n",
       "\n",
       "        UnitPrice  CustomerID  Country  \n",
       "199995       1.65     14606.0       35  \n",
       "199996       2.08     12397.0        3  \n",
       "199997       3.75     17295.0       35  \n",
       "199998       0.85     15311.0       35  \n",
       "199999       0.42     12723.0       13  "
      ]
     },
     "execution_count": 4,
     "metadata": {},
     "output_type": "execute_result"
    }
   ],
   "source": [
    "# Read last 5 values from dataset\n",
    "\n",
    "df.tail()"
   ]
  },
  {
   "cell_type": "code",
   "execution_count": 5,
   "metadata": {},
   "outputs": [
    {
     "data": {
      "text/plain": [
       "(200000, 8)"
      ]
     },
     "execution_count": 5,
     "metadata": {},
     "output_type": "execute_result"
    }
   ],
   "source": [
    "# Find shape of dataframe\n",
    "\n",
    "df.shape"
   ]
  },
  {
   "cell_type": "markdown",
   "metadata": {},
   "source": [
    "<b>The dataset has 200000 records and 8 columns.</b>"
   ]
  },
  {
   "cell_type": "code",
   "execution_count": 6,
   "metadata": {},
   "outputs": [
    {
     "data": {
      "text/html": [
       "<div>\n",
       "<style scoped>\n",
       "    .dataframe tbody tr th:only-of-type {\n",
       "        vertical-align: middle;\n",
       "    }\n",
       "\n",
       "    .dataframe tbody tr th {\n",
       "        vertical-align: top;\n",
       "    }\n",
       "\n",
       "    .dataframe thead th {\n",
       "        text-align: right;\n",
       "    }\n",
       "</style>\n",
       "<table border=\"1\" class=\"dataframe\">\n",
       "  <thead>\n",
       "    <tr style=\"text-align: right;\">\n",
       "      <th></th>\n",
       "      <th>InvoiceNo</th>\n",
       "      <th>StockCode</th>\n",
       "      <th>Description</th>\n",
       "      <th>Quantity</th>\n",
       "      <th>InvoiceDate</th>\n",
       "      <th>CustomerID</th>\n",
       "      <th>Country</th>\n",
       "      <th>UnitPrice</th>\n",
       "    </tr>\n",
       "  </thead>\n",
       "  <tbody>\n",
       "    <tr>\n",
       "      <th>0</th>\n",
       "      <td>6141</td>\n",
       "      <td>1583</td>\n",
       "      <td>144</td>\n",
       "      <td>3</td>\n",
       "      <td>2011-05-06 16:54:00</td>\n",
       "      <td>14056.0</td>\n",
       "      <td>35</td>\n",
       "      <td>3.75</td>\n",
       "    </tr>\n",
       "    <tr>\n",
       "      <th>1</th>\n",
       "      <td>6349</td>\n",
       "      <td>1300</td>\n",
       "      <td>3682</td>\n",
       "      <td>6</td>\n",
       "      <td>2011-05-11 07:35:00</td>\n",
       "      <td>13098.0</td>\n",
       "      <td>35</td>\n",
       "      <td>1.95</td>\n",
       "    </tr>\n",
       "    <tr>\n",
       "      <th>2</th>\n",
       "      <td>16783</td>\n",
       "      <td>2178</td>\n",
       "      <td>1939</td>\n",
       "      <td>4</td>\n",
       "      <td>2011-11-20 13:20:00</td>\n",
       "      <td>15044.0</td>\n",
       "      <td>35</td>\n",
       "      <td>5.95</td>\n",
       "    </tr>\n",
       "    <tr>\n",
       "      <th>3</th>\n",
       "      <td>16971</td>\n",
       "      <td>2115</td>\n",
       "      <td>2983</td>\n",
       "      <td>1</td>\n",
       "      <td>2011-11-22 12:07:00</td>\n",
       "      <td>15525.0</td>\n",
       "      <td>35</td>\n",
       "      <td>0.83</td>\n",
       "    </tr>\n",
       "    <tr>\n",
       "      <th>4</th>\n",
       "      <td>6080</td>\n",
       "      <td>1210</td>\n",
       "      <td>2886</td>\n",
       "      <td>12</td>\n",
       "      <td>2011-05-06 09:00:00</td>\n",
       "      <td>13952.0</td>\n",
       "      <td>35</td>\n",
       "      <td>1.65</td>\n",
       "    </tr>\n",
       "  </tbody>\n",
       "</table>\n",
       "</div>"
      ],
      "text/plain": [
       "   InvoiceNo  StockCode  Description  Quantity          InvoiceDate  \\\n",
       "0       6141       1583          144         3  2011-05-06 16:54:00   \n",
       "1       6349       1300         3682         6  2011-05-11 07:35:00   \n",
       "2      16783       2178         1939         4  2011-11-20 13:20:00   \n",
       "3      16971       2115         2983         1  2011-11-22 12:07:00   \n",
       "4       6080       1210         2886        12  2011-05-06 09:00:00   \n",
       "\n",
       "   CustomerID  Country  UnitPrice  \n",
       "0     14056.0       35       3.75  \n",
       "1     13098.0       35       1.95  \n",
       "2     15044.0       35       5.95  \n",
       "3     15525.0       35       0.83  \n",
       "4     13952.0       35       1.65  "
      ]
     },
     "execution_count": 6,
     "metadata": {},
     "output_type": "execute_result"
    }
   ],
   "source": [
    "# Reordering the columns by moving the UnitPrice column to extreme right\n",
    "\n",
    "df = df[['InvoiceNo', 'StockCode', 'Description', 'Quantity', 'InvoiceDate', 'CustomerID', 'Country', 'UnitPrice']]\n",
    "df.head()"
   ]
  },
  {
   "cell_type": "code",
   "execution_count": 7,
   "metadata": {},
   "outputs": [
    {
     "name": "stdout",
     "output_type": "stream",
     "text": [
      "<class 'pandas.core.frame.DataFrame'>\n",
      "RangeIndex: 200000 entries, 0 to 199999\n",
      "Data columns (total 8 columns):\n",
      " #   Column       Non-Null Count   Dtype  \n",
      "---  ------       --------------   -----  \n",
      " 0   InvoiceNo    200000 non-null  int64  \n",
      " 1   StockCode    200000 non-null  int64  \n",
      " 2   Description  200000 non-null  int64  \n",
      " 3   Quantity     200000 non-null  int64  \n",
      " 4   InvoiceDate  200000 non-null  object \n",
      " 5   CustomerID   200000 non-null  float64\n",
      " 6   Country      200000 non-null  int64  \n",
      " 7   UnitPrice    200000 non-null  float64\n",
      "dtypes: float64(2), int64(5), object(1)\n",
      "memory usage: 12.2+ MB\n"
     ]
    }
   ],
   "source": [
    "# Find datatype of each attribute\n",
    "\n",
    "df.info()"
   ]
  },
  {
   "cell_type": "markdown",
   "metadata": {},
   "source": [
    "<b>There are 5 integer, 2 float and 1 object columns.</b>"
   ]
  },
  {
   "cell_type": "code",
   "execution_count": 8,
   "metadata": {},
   "outputs": [
    {
     "data": {
      "text/plain": [
       "dtype('<M8[ns]')"
      ]
     },
     "execution_count": 8,
     "metadata": {},
     "output_type": "execute_result"
    }
   ],
   "source": [
    "# Change datatype of 'InvoiceDate' column to datetime variable\n",
    "\n",
    "df['InvoiceDate']=pd.to_datetime((df['InvoiceDate']))\n",
    "df[\"InvoiceDate\"].dtype"
   ]
  },
  {
   "cell_type": "code",
   "execution_count": 9,
   "metadata": {},
   "outputs": [
    {
     "data": {
      "text/html": [
       "<div>\n",
       "<style scoped>\n",
       "    .dataframe tbody tr th:only-of-type {\n",
       "        vertical-align: middle;\n",
       "    }\n",
       "\n",
       "    .dataframe tbody tr th {\n",
       "        vertical-align: top;\n",
       "    }\n",
       "\n",
       "    .dataframe thead th {\n",
       "        text-align: right;\n",
       "    }\n",
       "</style>\n",
       "<table border=\"1\" class=\"dataframe\">\n",
       "  <thead>\n",
       "    <tr style=\"text-align: right;\">\n",
       "      <th></th>\n",
       "      <th>InvoiceNo</th>\n",
       "      <th>StockCode</th>\n",
       "      <th>Description</th>\n",
       "      <th>Quantity</th>\n",
       "      <th>InvoiceDate</th>\n",
       "      <th>CustomerID</th>\n",
       "      <th>Country</th>\n",
       "      <th>UnitPrice</th>\n",
       "    </tr>\n",
       "  </thead>\n",
       "  <tbody>\n",
       "    <tr>\n",
       "      <th>10046</th>\n",
       "      <td>17505</td>\n",
       "      <td>2388</td>\n",
       "      <td>3587</td>\n",
       "      <td>1</td>\n",
       "      <td>2011-11-28 14:30:00</td>\n",
       "      <td>13030.0</td>\n",
       "      <td>35</td>\n",
       "      <td>2.08</td>\n",
       "    </tr>\n",
       "    <tr>\n",
       "      <th>10509</th>\n",
       "      <td>15113</td>\n",
       "      <td>2175</td>\n",
       "      <td>100</td>\n",
       "      <td>5</td>\n",
       "      <td>2011-11-01 10:16:00</td>\n",
       "      <td>17377.0</td>\n",
       "      <td>35</td>\n",
       "      <td>0.83</td>\n",
       "    </tr>\n",
       "    <tr>\n",
       "      <th>10652</th>\n",
       "      <td>3421</td>\n",
       "      <td>2546</td>\n",
       "      <td>216</td>\n",
       "      <td>3</td>\n",
       "      <td>2011-03-01 13:51:00</td>\n",
       "      <td>15456.0</td>\n",
       "      <td>35</td>\n",
       "      <td>0.21</td>\n",
       "    </tr>\n",
       "    <tr>\n",
       "      <th>11965</th>\n",
       "      <td>11965</td>\n",
       "      <td>3108</td>\n",
       "      <td>195</td>\n",
       "      <td>6</td>\n",
       "      <td>2011-09-11 14:51:00</td>\n",
       "      <td>13611.0</td>\n",
       "      <td>35</td>\n",
       "      <td>1.25</td>\n",
       "    </tr>\n",
       "    <tr>\n",
       "      <th>13108</th>\n",
       "      <td>14321</td>\n",
       "      <td>2091</td>\n",
       "      <td>3029</td>\n",
       "      <td>1</td>\n",
       "      <td>2011-10-19 13:58:00</td>\n",
       "      <td>14704.0</td>\n",
       "      <td>35</td>\n",
       "      <td>1.25</td>\n",
       "    </tr>\n",
       "    <tr>\n",
       "      <th>...</th>\n",
       "      <td>...</td>\n",
       "      <td>...</td>\n",
       "      <td>...</td>\n",
       "      <td>...</td>\n",
       "      <td>...</td>\n",
       "      <td>...</td>\n",
       "      <td>...</td>\n",
       "      <td>...</td>\n",
       "    </tr>\n",
       "    <tr>\n",
       "      <th>199887</th>\n",
       "      <td>15995</td>\n",
       "      <td>1478</td>\n",
       "      <td>3473</td>\n",
       "      <td>1</td>\n",
       "      <td>2011-11-11 10:41:00</td>\n",
       "      <td>17841.0</td>\n",
       "      <td>35</td>\n",
       "      <td>1.65</td>\n",
       "    </tr>\n",
       "    <tr>\n",
       "      <th>199920</th>\n",
       "      <td>15155</td>\n",
       "      <td>815</td>\n",
       "      <td>1450</td>\n",
       "      <td>12</td>\n",
       "      <td>2011-11-01 14:29:00</td>\n",
       "      <td>16729.0</td>\n",
       "      <td>35</td>\n",
       "      <td>0.79</td>\n",
       "    </tr>\n",
       "    <tr>\n",
       "      <th>199931</th>\n",
       "      <td>8447</td>\n",
       "      <td>925</td>\n",
       "      <td>2099</td>\n",
       "      <td>1</td>\n",
       "      <td>2011-06-22 13:28:00</td>\n",
       "      <td>17585.0</td>\n",
       "      <td>35</td>\n",
       "      <td>1.25</td>\n",
       "    </tr>\n",
       "    <tr>\n",
       "      <th>199950</th>\n",
       "      <td>17161</td>\n",
       "      <td>2677</td>\n",
       "      <td>3163</td>\n",
       "      <td>1</td>\n",
       "      <td>2011-11-23 15:53:00</td>\n",
       "      <td>17290.0</td>\n",
       "      <td>35</td>\n",
       "      <td>2.10</td>\n",
       "    </tr>\n",
       "    <tr>\n",
       "      <th>199985</th>\n",
       "      <td>13404</td>\n",
       "      <td>2203</td>\n",
       "      <td>1000</td>\n",
       "      <td>1</td>\n",
       "      <td>2011-10-05 13:47:00</td>\n",
       "      <td>14730.0</td>\n",
       "      <td>35</td>\n",
       "      <td>4.15</td>\n",
       "    </tr>\n",
       "  </tbody>\n",
       "</table>\n",
       "<p>1333 rows × 8 columns</p>\n",
       "</div>"
      ],
      "text/plain": [
       "        InvoiceNo  StockCode  Description  Quantity         InvoiceDate  \\\n",
       "10046       17505       2388         3587         1 2011-11-28 14:30:00   \n",
       "10509       15113       2175          100         5 2011-11-01 10:16:00   \n",
       "10652        3421       2546          216         3 2011-03-01 13:51:00   \n",
       "11965       11965       3108          195         6 2011-09-11 14:51:00   \n",
       "13108       14321       2091         3029         1 2011-10-19 13:58:00   \n",
       "...           ...        ...          ...       ...                 ...   \n",
       "199887      15995       1478         3473         1 2011-11-11 10:41:00   \n",
       "199920      15155        815         1450        12 2011-11-01 14:29:00   \n",
       "199931       8447        925         2099         1 2011-06-22 13:28:00   \n",
       "199950      17161       2677         3163         1 2011-11-23 15:53:00   \n",
       "199985      13404       2203         1000         1 2011-10-05 13:47:00   \n",
       "\n",
       "        CustomerID  Country  UnitPrice  \n",
       "10046      13030.0       35       2.08  \n",
       "10509      17377.0       35       0.83  \n",
       "10652      15456.0       35       0.21  \n",
       "11965      13611.0       35       1.25  \n",
       "13108      14704.0       35       1.25  \n",
       "...            ...      ...        ...  \n",
       "199887     17841.0       35       1.65  \n",
       "199920     16729.0       35       0.79  \n",
       "199931     17585.0       35       1.25  \n",
       "199950     17290.0       35       2.10  \n",
       "199985     14730.0       35       4.15  \n",
       "\n",
       "[1333 rows x 8 columns]"
      ]
     },
     "execution_count": 9,
     "metadata": {},
     "output_type": "execute_result"
    }
   ],
   "source": [
    "# Check if any duplicate records are present\n",
    "\n",
    "duplicate=df[df.duplicated()] \n",
    "duplicate"
   ]
  },
  {
   "cell_type": "markdown",
   "metadata": {},
   "source": [
    "<b>There are 1333 duplicate records in the dataset.</b>"
   ]
  },
  {
   "cell_type": "code",
   "execution_count": 10,
   "metadata": {},
   "outputs": [],
   "source": [
    "# Remove duplicate records except the first occurence\n",
    "\n",
    "df.drop_duplicates(inplace=True)"
   ]
  },
  {
   "cell_type": "code",
   "execution_count": 11,
   "metadata": {},
   "outputs": [
    {
     "data": {
      "text/html": [
       "<div>\n",
       "<style scoped>\n",
       "    .dataframe tbody tr th:only-of-type {\n",
       "        vertical-align: middle;\n",
       "    }\n",
       "\n",
       "    .dataframe tbody tr th {\n",
       "        vertical-align: top;\n",
       "    }\n",
       "\n",
       "    .dataframe thead th {\n",
       "        text-align: right;\n",
       "    }\n",
       "</style>\n",
       "<table border=\"1\" class=\"dataframe\">\n",
       "  <thead>\n",
       "    <tr style=\"text-align: right;\">\n",
       "      <th></th>\n",
       "      <th>InvoiceNo</th>\n",
       "      <th>StockCode</th>\n",
       "      <th>Description</th>\n",
       "      <th>Quantity</th>\n",
       "      <th>InvoiceDate</th>\n",
       "      <th>CustomerID</th>\n",
       "      <th>Country</th>\n",
       "      <th>UnitPrice</th>\n",
       "    </tr>\n",
       "  </thead>\n",
       "  <tbody>\n",
       "  </tbody>\n",
       "</table>\n",
       "</div>"
      ],
      "text/plain": [
       "Empty DataFrame\n",
       "Columns: [InvoiceNo, StockCode, Description, Quantity, InvoiceDate, CustomerID, Country, UnitPrice]\n",
       "Index: []"
      ]
     },
     "execution_count": 11,
     "metadata": {},
     "output_type": "execute_result"
    }
   ],
   "source": [
    "# Again check if any duplicate records are left\n",
    "\n",
    "duplicate = df[df.duplicated()] \n",
    "duplicate"
   ]
  },
  {
   "cell_type": "markdown",
   "metadata": {},
   "source": [
    "<b>Hence, all duplicate records are removed.</b>"
   ]
  },
  {
   "cell_type": "code",
   "execution_count": 12,
   "metadata": {},
   "outputs": [
    {
     "data": {
      "text/plain": [
       "Text(0, 0.5, 'UnitPrice')"
      ]
     },
     "execution_count": 12,
     "metadata": {},
     "output_type": "execute_result"
    },
    {
     "data": {
      "image/png": "[encoded data removed]",
      "text/plain": [
       "<Figure size 720x720 with 3 Axes>"
      ]
     },
     "metadata": {
      "needs_background": "light"
     },
     "output_type": "display_data"
    }
   ],
   "source": [
    "# Detect outliers\n",
    "\n",
    "fig, ax = plt.subplots(nrows=3, ncols=1, figsize=(10,10))\n",
    "\n",
    "ax[0].scatter(df['Description'], df['Quantity'])\n",
    "ax[0].set_xlabel('Description')\n",
    "ax[0].set_ylabel('Quantity')\n",
    "\n",
    "ax[1].scatter(df['UnitPrice'], df['Quantity'], c='r')\n",
    "ax[1].set_xlabel('UnitPrice')\n",
    "ax[1].set_ylabel('Quantity')\n",
    "\n",
    "ax[2].scatter(df['Description'], df['UnitPrice'], c='g')\n",
    "ax[2].set_xlabel('Description')\n",
    "ax[2].set_ylabel('UnitPrice')\n"
   ]
  },
  {
   "cell_type": "markdown",
   "metadata": {},
   "source": [
    "<b>From the visualization, we observe that outliers are present in the dataset.</b>"
   ]
  },
  {
   "cell_type": "code",
   "execution_count": 13,
   "metadata": {},
   "outputs": [
    {
     "name": "stdout",
     "output_type": "stream",
     "text": [
      "InvoiceNo      9574.0\n",
      "StockCode      1169.0\n",
      "Description    1807.0\n",
      "Quantity         10.0\n",
      "CustomerID     2852.0\n",
      "Country           0.0\n",
      "UnitPrice         2.5\n",
      "dtype: float64\n"
     ]
    }
   ],
   "source": [
    "# Handle outliers\n",
    "\n",
    "Q1 = df.quantile(0.25)\n",
    "Q3 = df.quantile(0.75)\n",
    "IQR = Q3 - Q1\n",
    "print(IQR)"
   ]
  },
  {
   "cell_type": "code",
   "execution_count": 14,
   "metadata": {},
   "outputs": [],
   "source": [
    "# Tried removing outliers but getting an error\n",
    "# Remove outliers\n",
    "\n",
    "# df_out = df[~((df < (Q1 - 1.5 * IQR)) |(df > (Q3 + 1.5 * IQR))).any(axis=1)]\n",
    "# df_out.shape"
   ]
  },
  {
   "cell_type": "code",
   "execution_count": 15,
   "metadata": {},
   "outputs": [
    {
     "name": "stdout",
     "output_type": "stream",
     "text": [
      "InvoiceNo      0\n",
      "StockCode      0\n",
      "Description    0\n",
      "Quantity       0\n",
      "InvoiceDate    0\n",
      "CustomerID     0\n",
      "Country        0\n",
      "UnitPrice      0\n",
      "dtype: int64\n"
     ]
    }
   ],
   "source": [
    "# Find the total number of missing values in each column\n",
    "\n",
    "print(df.isna().sum())"
   ]
  },
  {
   "cell_type": "markdown",
   "metadata": {},
   "source": [
    "<b>There are no missing records present.</b>"
   ]
  },
  {
   "cell_type": "code",
   "execution_count": 16,
   "metadata": {},
   "outputs": [
    {
     "data": {
      "text/plain": [
       "(198667, 8)"
      ]
     },
     "execution_count": 16,
     "metadata": {},
     "output_type": "execute_result"
    }
   ],
   "source": [
    "# Checking the shape again\n",
    "\n",
    "df.shape"
   ]
  },
  {
   "cell_type": "markdown",
   "metadata": {},
   "source": [
    "<b>After removing duplicate values and checking for missing values there are 198667 records in dataset.</b>"
   ]
  },
  {
   "cell_type": "markdown",
   "metadata": {},
   "source": [
    "### Exploratory Data Analysis"
   ]
  },
  {
   "cell_type": "code",
   "execution_count": 17,
   "metadata": {},
   "outputs": [
    {
     "data": {
      "text/html": [
       "<div>\n",
       "<style scoped>\n",
       "    .dataframe tbody tr th:only-of-type {\n",
       "        vertical-align: middle;\n",
       "    }\n",
       "\n",
       "    .dataframe tbody tr th {\n",
       "        vertical-align: top;\n",
       "    }\n",
       "\n",
       "    .dataframe thead th {\n",
       "        text-align: right;\n",
       "    }\n",
       "</style>\n",
       "<table border=\"1\" class=\"dataframe\">\n",
       "  <thead>\n",
       "    <tr style=\"text-align: right;\">\n",
       "      <th></th>\n",
       "      <th>StockCode</th>\n",
       "      <th>Quantity</th>\n",
       "      <th>UnitPrice</th>\n",
       "    </tr>\n",
       "  </thead>\n",
       "  <tbody>\n",
       "    <tr>\n",
       "      <th>20</th>\n",
       "      <td>3131</td>\n",
       "      <td>-36</td>\n",
       "      <td>1.06</td>\n",
       "    </tr>\n",
       "    <tr>\n",
       "      <th>152</th>\n",
       "      <td>2224</td>\n",
       "      <td>-1</td>\n",
       "      <td>4.95</td>\n",
       "    </tr>\n",
       "    <tr>\n",
       "      <th>157</th>\n",
       "      <td>1521</td>\n",
       "      <td>-6</td>\n",
       "      <td>2.95</td>\n",
       "    </tr>\n",
       "    <tr>\n",
       "      <th>186</th>\n",
       "      <td>2166</td>\n",
       "      <td>-100</td>\n",
       "      <td>1.79</td>\n",
       "    </tr>\n",
       "    <tr>\n",
       "      <th>196</th>\n",
       "      <td>1014</td>\n",
       "      <td>-17</td>\n",
       "      <td>4.25</td>\n",
       "    </tr>\n",
       "    <tr>\n",
       "      <th>...</th>\n",
       "      <td>...</td>\n",
       "      <td>...</td>\n",
       "      <td>...</td>\n",
       "    </tr>\n",
       "    <tr>\n",
       "      <th>199532</th>\n",
       "      <td>1283</td>\n",
       "      <td>-1</td>\n",
       "      <td>8.25</td>\n",
       "    </tr>\n",
       "    <tr>\n",
       "      <th>199587</th>\n",
       "      <td>3198</td>\n",
       "      <td>-2</td>\n",
       "      <td>7.95</td>\n",
       "    </tr>\n",
       "    <tr>\n",
       "      <th>199834</th>\n",
       "      <td>1646</td>\n",
       "      <td>-2</td>\n",
       "      <td>9.95</td>\n",
       "    </tr>\n",
       "    <tr>\n",
       "      <th>199870</th>\n",
       "      <td>3207</td>\n",
       "      <td>-1</td>\n",
       "      <td>2.10</td>\n",
       "    </tr>\n",
       "    <tr>\n",
       "      <th>199995</th>\n",
       "      <td>170</td>\n",
       "      <td>-1</td>\n",
       "      <td>1.65</td>\n",
       "    </tr>\n",
       "  </tbody>\n",
       "</table>\n",
       "<p>4310 rows × 3 columns</p>\n",
       "</div>"
      ],
      "text/plain": [
       "        StockCode  Quantity  UnitPrice\n",
       "20           3131       -36       1.06\n",
       "152          2224        -1       4.95\n",
       "157          1521        -6       2.95\n",
       "186          2166      -100       1.79\n",
       "196          1014       -17       4.25\n",
       "...           ...       ...        ...\n",
       "199532       1283        -1       8.25\n",
       "199587       3198        -2       7.95\n",
       "199834       1646        -2       9.95\n",
       "199870       3207        -1       2.10\n",
       "199995        170        -1       1.65\n",
       "\n",
       "[4310 rows x 3 columns]"
      ]
     },
     "execution_count": 17,
     "metadata": {},
     "output_type": "execute_result"
    }
   ],
   "source": [
    "# Find negative values in Quantity \n",
    "\n",
    "columns = ['StockCode', 'Quantity', 'UnitPrice']\n",
    "df.loc[df[\"Quantity\"] < 0][columns]"
   ]
  },
  {
   "cell_type": "markdown",
   "metadata": {},
   "source": [
    "<b>There are 4310 records having negative quantity values. The negative values indicate that the products were returned.</b>"
   ]
  },
  {
   "cell_type": "code",
   "execution_count": 18,
   "metadata": {},
   "outputs": [
    {
     "data": {
      "text/html": [
       "<div>\n",
       "<style scoped>\n",
       "    .dataframe tbody tr th:only-of-type {\n",
       "        vertical-align: middle;\n",
       "    }\n",
       "\n",
       "    .dataframe tbody tr th {\n",
       "        vertical-align: top;\n",
       "    }\n",
       "\n",
       "    .dataframe thead th {\n",
       "        text-align: right;\n",
       "    }\n",
       "</style>\n",
       "<table border=\"1\" class=\"dataframe\">\n",
       "  <thead>\n",
       "    <tr style=\"text-align: right;\">\n",
       "      <th></th>\n",
       "      <th>StockCode</th>\n",
       "      <th>Quantity</th>\n",
       "      <th>UnitPrice</th>\n",
       "    </tr>\n",
       "  </thead>\n",
       "  <tbody>\n",
       "  </tbody>\n",
       "</table>\n",
       "</div>"
      ],
      "text/plain": [
       "Empty DataFrame\n",
       "Columns: [StockCode, Quantity, UnitPrice]\n",
       "Index: []"
      ]
     },
     "execution_count": 18,
     "metadata": {},
     "output_type": "execute_result"
    }
   ],
   "source": [
    "# Find negative values in UnitPrice\n",
    "\n",
    "df.loc[df[\"UnitPrice\"] < 0][columns]"
   ]
  },
  {
   "cell_type": "markdown",
   "metadata": {},
   "source": [
    "<b>No negative records are present in UnitPrice.</b>"
   ]
  },
  {
   "cell_type": "code",
   "execution_count": 19,
   "metadata": {},
   "outputs": [
    {
     "data": {
      "text/plain": [
       "Index(['InvoiceNo', 'StockCode', 'Description', 'Quantity', 'InvoiceDate',\n",
       "       'CustomerID', 'Country', 'UnitPrice'],\n",
       "      dtype='object')"
      ]
     },
     "execution_count": 19,
     "metadata": {},
     "output_type": "execute_result"
    }
   ],
   "source": [
    "# Display the column names and give its description\n",
    "\n",
    "df.columns"
   ]
  },
  {
   "cell_type": "markdown",
   "metadata": {},
   "source": [
    "<b>The 8 columns are:-</b>\n",
    "\n",
    "<ol>\n",
    "    <li>Invoice No - Invoice ID, encoded as Label</li>\n",
    "    <li>StockCode - Unique code per stock, encoded as Label</li>\n",
    "    <li>Description - The Description, encoded as Label</li>\n",
    "    <li>Quantity - Quantity purchased</li>\n",
    "    <li>InvoiceDate - Date of purchase</li>\n",
    "    <li>UnitPrice - The target value, price of every product</li>\n",
    "    <li>CustomerID - Unique Identifier for every Customer</li>\n",
    "    <li>Country - Country of sales, encoded as Label</li>\n",
    "</ol>"
   ]
  },
  {
   "cell_type": "code",
   "execution_count": 20,
   "metadata": {},
   "outputs": [
    {
     "data": {
      "text/html": [
       "<div>\n",
       "<style scoped>\n",
       "    .dataframe tbody tr th:only-of-type {\n",
       "        vertical-align: middle;\n",
       "    }\n",
       "\n",
       "    .dataframe tbody tr th {\n",
       "        vertical-align: top;\n",
       "    }\n",
       "\n",
       "    .dataframe thead th {\n",
       "        text-align: right;\n",
       "    }\n",
       "</style>\n",
       "<table border=\"1\" class=\"dataframe\">\n",
       "  <thead>\n",
       "    <tr style=\"text-align: right;\">\n",
       "      <th></th>\n",
       "      <th>InvoiceNo</th>\n",
       "      <th>StockCode</th>\n",
       "      <th>Description</th>\n",
       "      <th>Quantity</th>\n",
       "      <th>InvoiceDate</th>\n",
       "      <th>CustomerID</th>\n",
       "      <th>Country</th>\n",
       "      <th>UnitPrice</th>\n",
       "      <th>TotalAmount</th>\n",
       "    </tr>\n",
       "  </thead>\n",
       "  <tbody>\n",
       "    <tr>\n",
       "      <th>0</th>\n",
       "      <td>6141</td>\n",
       "      <td>1583</td>\n",
       "      <td>144</td>\n",
       "      <td>3</td>\n",
       "      <td>2011-05-06 16:54:00</td>\n",
       "      <td>14056.0</td>\n",
       "      <td>35</td>\n",
       "      <td>3.75</td>\n",
       "      <td>11.25</td>\n",
       "    </tr>\n",
       "    <tr>\n",
       "      <th>1</th>\n",
       "      <td>6349</td>\n",
       "      <td>1300</td>\n",
       "      <td>3682</td>\n",
       "      <td>6</td>\n",
       "      <td>2011-05-11 07:35:00</td>\n",
       "      <td>13098.0</td>\n",
       "      <td>35</td>\n",
       "      <td>1.95</td>\n",
       "      <td>11.70</td>\n",
       "    </tr>\n",
       "    <tr>\n",
       "      <th>2</th>\n",
       "      <td>16783</td>\n",
       "      <td>2178</td>\n",
       "      <td>1939</td>\n",
       "      <td>4</td>\n",
       "      <td>2011-11-20 13:20:00</td>\n",
       "      <td>15044.0</td>\n",
       "      <td>35</td>\n",
       "      <td>5.95</td>\n",
       "      <td>23.80</td>\n",
       "    </tr>\n",
       "    <tr>\n",
       "      <th>3</th>\n",
       "      <td>16971</td>\n",
       "      <td>2115</td>\n",
       "      <td>2983</td>\n",
       "      <td>1</td>\n",
       "      <td>2011-11-22 12:07:00</td>\n",
       "      <td>15525.0</td>\n",
       "      <td>35</td>\n",
       "      <td>0.83</td>\n",
       "      <td>0.83</td>\n",
       "    </tr>\n",
       "    <tr>\n",
       "      <th>4</th>\n",
       "      <td>6080</td>\n",
       "      <td>1210</td>\n",
       "      <td>2886</td>\n",
       "      <td>12</td>\n",
       "      <td>2011-05-06 09:00:00</td>\n",
       "      <td>13952.0</td>\n",
       "      <td>35</td>\n",
       "      <td>1.65</td>\n",
       "      <td>19.80</td>\n",
       "    </tr>\n",
       "  </tbody>\n",
       "</table>\n",
       "</div>"
      ],
      "text/plain": [
       "   InvoiceNo  StockCode  Description  Quantity         InvoiceDate  \\\n",
       "0       6141       1583          144         3 2011-05-06 16:54:00   \n",
       "1       6349       1300         3682         6 2011-05-11 07:35:00   \n",
       "2      16783       2178         1939         4 2011-11-20 13:20:00   \n",
       "3      16971       2115         2983         1 2011-11-22 12:07:00   \n",
       "4       6080       1210         2886        12 2011-05-06 09:00:00   \n",
       "\n",
       "   CustomerID  Country  UnitPrice  TotalAmount  \n",
       "0     14056.0       35       3.75        11.25  \n",
       "1     13098.0       35       1.95        11.70  \n",
       "2     15044.0       35       5.95        23.80  \n",
       "3     15525.0       35       0.83         0.83  \n",
       "4     13952.0       35       1.65        19.80  "
      ]
     },
     "execution_count": 20,
     "metadata": {},
     "output_type": "execute_result"
    }
   ],
   "source": [
    "# Calculate the total amount spent of each transaction by multiplying \"Quantity\" by \"UnitPrice\"\n",
    "\n",
    "df['TotalAmount'] = (df['Quantity'])*(df['UnitPrice'])\n",
    "df.head()"
   ]
  },
  {
   "cell_type": "markdown",
   "metadata": {},
   "source": [
    "<b>TotalAmount column is added in the dataset.</b>"
   ]
  },
  {
   "cell_type": "code",
   "execution_count": 21,
   "metadata": {},
   "outputs": [
    {
     "data": {
      "text/plain": [
       "CustomerID\n",
       "12346.0      1\n",
       "12347.0     84\n",
       "12348.0     13\n",
       "12349.0     39\n",
       "12350.0      9\n",
       "          ... \n",
       "18280.0      4\n",
       "18281.0      4\n",
       "18282.0      3\n",
       "18283.0    362\n",
       "18287.0     40\n",
       "Name: InvoiceNo, Length: 4297, dtype: int64"
      ]
     },
     "execution_count": 21,
     "metadata": {},
     "output_type": "execute_result"
    }
   ],
   "source": [
    "# Group data by CustomerID and count the unique InvoiceNo to see the orders placed by the customers\n",
    "\n",
    "order_by_each_customer = df.groupby('CustomerID')['InvoiceNo'].count()\n",
    "order_by_each_customer"
   ]
  },
  {
   "cell_type": "markdown",
   "metadata": {},
   "source": [
    "<b>Order placed by each customer is displayed.</b>"
   ]
  },
  {
   "cell_type": "code",
   "execution_count": 22,
   "metadata": {},
   "outputs": [
    {
     "data": {
      "text/plain": [
       "CustomerID\n",
       "17841.0    3883\n",
       "14911.0    2896\n",
       "14096.0    2518\n",
       "12748.0    2197\n",
       "14606.0    1357\n",
       "15311.0    1199\n",
       "14646.0    1026\n",
       "13089.0     919\n",
       "13263.0     837\n",
       "14298.0     811\n",
       "Name: InvoiceNo, dtype: int64"
      ]
     },
     "execution_count": 22,
     "metadata": {},
     "output_type": "execute_result"
    }
   ],
   "source": [
    "# Display top 10 customers with highest number of orders\n",
    "\n",
    "order_by_each_customer.nlargest(10)"
   ]
  },
  {
   "cell_type": "markdown",
   "metadata": {},
   "source": [
    "<b>CustomerID of the customers with highest number of orders is displayed.\n",
    "The customers  </b>"
   ]
  },
  {
   "cell_type": "code",
   "execution_count": 23,
   "metadata": {},
   "outputs": [
    {
     "data": {
      "text/plain": [
       "CustomerID\n",
       "15098.0    9907.350000\n",
       "15802.0     451.420000\n",
       "13452.0     295.000000\n",
       "17940.0     221.062222\n",
       "15299.0     130.484000\n",
       "12744.0     119.604423\n",
       "17603.0     104.466364\n",
       "12881.0     100.675000\n",
       "16692.0      78.725000\n",
       "13145.0      76.015000\n",
       "Name: UnitPrice, dtype: float64"
      ]
     },
     "execution_count": 23,
     "metadata": {},
     "output_type": "execute_result"
    }
   ],
   "source": [
    "# Group by CustomerID and calculate its average unit price\n",
    "\n",
    "cust_mean = df.groupby('CustomerID')['UnitPrice'].mean()\n",
    "cust_mean.nlargest(10)"
   ]
  },
  {
   "cell_type": "markdown",
   "metadata": {},
   "source": [
    "<b>Customer with the above IDs buy expensive items.</b>"
   ]
  },
  {
   "cell_type": "code",
   "execution_count": 24,
   "metadata": {},
   "outputs": [
    {
     "data": {
      "text/plain": [
       "False"
      ]
     },
     "execution_count": 24,
     "metadata": {},
     "output_type": "execute_result"
    }
   ],
   "source": [
    "order_by_each_customer.equals(other=cust_mean)"
   ]
  },
  {
   "cell_type": "markdown",
   "metadata": {},
   "source": [
    "<b>From the above two analysis we observe that the customer who buys more items need not but expensive items. </b>"
   ]
  },
  {
   "cell_type": "code",
   "execution_count": 25,
   "metadata": {},
   "outputs": [
    {
     "data": {
      "text/html": [
       "<div>\n",
       "<style scoped>\n",
       "    .dataframe tbody tr th:only-of-type {\n",
       "        vertical-align: middle;\n",
       "    }\n",
       "\n",
       "    .dataframe tbody tr th {\n",
       "        vertical-align: top;\n",
       "    }\n",
       "\n",
       "    .dataframe thead th {\n",
       "        text-align: right;\n",
       "    }\n",
       "</style>\n",
       "<table border=\"1\" class=\"dataframe\">\n",
       "  <thead>\n",
       "    <tr style=\"text-align: right;\">\n",
       "      <th></th>\n",
       "      <th>CustomerID</th>\n",
       "      <th>days_as_customer</th>\n",
       "    </tr>\n",
       "  </thead>\n",
       "  <tbody>\n",
       "    <tr>\n",
       "      <th>69</th>\n",
       "      <td>12431.0</td>\n",
       "      <td>374.0</td>\n",
       "    </tr>\n",
       "    <tr>\n",
       "      <th>189</th>\n",
       "      <td>12583.0</td>\n",
       "      <td>374.0</td>\n",
       "    </tr>\n",
       "    <tr>\n",
       "      <th>328</th>\n",
       "      <td>12748.0</td>\n",
       "      <td>374.0</td>\n",
       "    </tr>\n",
       "    <tr>\n",
       "      <th>357</th>\n",
       "      <td>12791.0</td>\n",
       "      <td>374.0</td>\n",
       "    </tr>\n",
       "    <tr>\n",
       "      <th>390</th>\n",
       "      <td>12838.0</td>\n",
       "      <td>374.0</td>\n",
       "    </tr>\n",
       "    <tr>\n",
       "      <th>412</th>\n",
       "      <td>12868.0</td>\n",
       "      <td>374.0</td>\n",
       "    </tr>\n",
       "    <tr>\n",
       "      <th>535</th>\n",
       "      <td>13047.0</td>\n",
       "      <td>374.0</td>\n",
       "    </tr>\n",
       "    <tr>\n",
       "      <th>682</th>\n",
       "      <td>13255.0</td>\n",
       "      <td>374.0</td>\n",
       "    </tr>\n",
       "    <tr>\n",
       "      <th>790</th>\n",
       "      <td>13408.0</td>\n",
       "      <td>374.0</td>\n",
       "    </tr>\n",
       "    <tr>\n",
       "      <th>815</th>\n",
       "      <td>13448.0</td>\n",
       "      <td>374.0</td>\n",
       "    </tr>\n",
       "    <tr>\n",
       "      <th>992</th>\n",
       "      <td>13694.0</td>\n",
       "      <td>374.0</td>\n",
       "    </tr>\n",
       "    <tr>\n",
       "      <th>998</th>\n",
       "      <td>13705.0</td>\n",
       "      <td>374.0</td>\n",
       "    </tr>\n",
       "    <tr>\n",
       "      <th>1040</th>\n",
       "      <td>13758.0</td>\n",
       "      <td>374.0</td>\n",
       "    </tr>\n",
       "    <tr>\n",
       "      <th>1047</th>\n",
       "      <td>13767.0</td>\n",
       "      <td>374.0</td>\n",
       "    </tr>\n",
       "    <tr>\n",
       "      <th>1245</th>\n",
       "      <td>14045.0</td>\n",
       "      <td>374.0</td>\n",
       "    </tr>\n",
       "  </tbody>\n",
       "</table>\n",
       "</div>"
      ],
      "text/plain": [
       "      CustomerID  days_as_customer\n",
       "69       12431.0             374.0\n",
       "189      12583.0             374.0\n",
       "328      12748.0             374.0\n",
       "357      12791.0             374.0\n",
       "390      12838.0             374.0\n",
       "412      12868.0             374.0\n",
       "535      13047.0             374.0\n",
       "682      13255.0             374.0\n",
       "790      13408.0             374.0\n",
       "815      13448.0             374.0\n",
       "992      13694.0             374.0\n",
       "998      13705.0             374.0\n",
       "1040     13758.0             374.0\n",
       "1047     13767.0             374.0\n",
       "1245     14045.0             374.0"
      ]
     },
     "execution_count": 25,
     "metadata": {},
     "output_type": "execute_result"
    }
   ],
   "source": [
    "# Find number of days the person has been a customer\n",
    "\n",
    "# group by customerID and select the date at which the first order was placed\n",
    "days= df.groupby('CustomerID', as_index=False)['InvoiceDate'].min()\n",
    "\n",
    "# edit names of columns \n",
    "days.columns = ['CustomerID', 'Earliest_Invoice']\n",
    "\n",
    "# create a column with the date of the latest order placed\n",
    "days['Latest_Invoice'] = pd.to_datetime((df['InvoiceDate']).max())\n",
    "days.set_index('CustomerID')\n",
    "\n",
    "#calculate how many days the person has been a customer\n",
    "days['days_as_customer'] = 1 + (days.Latest_Invoice-days.Earliest_Invoice).astype('timedelta64[D]')\n",
    "\n",
    "#delete earliest invoice and laterst invoice columns\n",
    "days.drop(['Earliest_Invoice', 'Latest_Invoice'], axis=1, inplace=True)\n",
    "\n",
    "# Display top 15 customers\n",
    "days.nlargest(15, columns='days_as_customer')"
   ]
  },
  {
   "cell_type": "markdown",
   "metadata": {},
   "source": [
    "<b>There are many customers who have ordered for more than a year.</b>"
   ]
  },
  {
   "cell_type": "code",
   "execution_count": 26,
   "metadata": {},
   "outputs": [
    {
     "data": {
      "text/plain": [
       "Country\n",
       "0        619\n",
       "1        217\n",
       "2          7\n",
       "3       1007\n",
       "4         13\n",
       "5         73\n",
       "6        350\n",
       "7        293\n",
       "8         21\n",
       "9        211\n",
       "10      3629\n",
       "11        28\n",
       "12       332\n",
       "13      4194\n",
       "14      4727\n",
       "15        71\n",
       "16        84\n",
       "17       128\n",
       "18       394\n",
       "19       160\n",
       "20        25\n",
       "21        15\n",
       "22        60\n",
       "23      1165\n",
       "24       537\n",
       "25       157\n",
       "26       753\n",
       "27        32\n",
       "28         4\n",
       "29       104\n",
       "30      1255\n",
       "31       213\n",
       "32       887\n",
       "33       135\n",
       "34        33\n",
       "35    176604\n",
       "36       130\n",
       "Name: InvoiceNo, dtype: int64"
      ]
     },
     "execution_count": 26,
     "metadata": {},
     "output_type": "execute_result"
    }
   ],
   "source": [
    "# Group by Country to find the number of orders in each Country\n",
    "\n",
    "cust_freq = df.groupby('Country')[\"InvoiceNo\"].count()\n",
    "cust_freq"
   ]
  },
  {
   "cell_type": "markdown",
   "metadata": {},
   "source": [
    "<b>Inferences:-</b>\n",
    "\n",
    "<ul>\n",
    "    <li>Country with label 35 has the highest number of orders.</li>\n",
    "    <li>Country with labels 14, 13, 10, 3, 23, 30 also have pretty good orders.</li>\n",
    "    <li>There are 13 countries with orders less than 100.</li>\n",
    "</ul>"
   ]
  },
  {
   "cell_type": "code",
   "execution_count": 27,
   "metadata": {},
   "outputs": [
    {
     "name": "stdout",
     "output_type": "stream",
     "text": [
      "(6, 23)\n",
      "(7, 198)\n",
      "(8, 4417)\n",
      "(9, 11139)\n",
      "(10, 19179)\n",
      "(11, 24492)\n",
      "(12, 35749)\n",
      "(13, 31818)\n",
      "(14, 26658)\n",
      "(15, 22350)\n",
      "(16, 12212)\n",
      "(17, 6713)\n",
      "(18, 1548)\n",
      "(19, 1744)\n",
      "(20, 427)\n"
     ]
    }
   ],
   "source": [
    "# Find which hours are the busiest\n",
    "\n",
    "# getting hour from InvoiceDate\n",
    "hours = df['InvoiceDate'].dt.hour\n",
    "\n",
    "Hours, count = np.unique(hours, return_counts=True)\n",
    "\n",
    "for i in zip(Hours, count):\n",
    "    print(i)"
   ]
  },
  {
   "cell_type": "markdown",
   "metadata": {},
   "source": [
    "<b>Inferences:-</b>\n",
    "\n",
    "<ul>\n",
    "    <li>The most busiest hour is from 9AM to 4PM.</li>\n",
    "    <li>The time between 8AM to 9AM and 4PM to 6PM also has significant number of orders.</li>\n",
    "    <li>There are no orders between 9PM to 6AM.</li>\n",
    "</ul>"
   ]
  },
  {
   "cell_type": "code",
   "execution_count": 28,
   "metadata": {},
   "outputs": [
    {
     "data": {
      "text/plain": [
       "InvoiceDate\n",
       "0    32371\n",
       "1    33248\n",
       "2    34628\n",
       "3    40305\n",
       "4    27530\n",
       "6    30585\n",
       "Name: InvoiceNo, dtype: int64"
      ]
     },
     "execution_count": 28,
     "metadata": {},
     "output_type": "execute_result"
    }
   ],
   "source": [
    "# Find most sales occur in which week\n",
    "\n",
    "# getting weekday\n",
    "weekday = df['InvoiceDate'].dt.weekday\n",
    "\n",
    "df.groupby(weekday)[\"InvoiceNo\"].count()"
   ]
  },
  {
   "cell_type": "markdown",
   "metadata": {},
   "source": [
    "<b>Inferences:-</b>\n",
    "\n",
    "<ul>\n",
    "    <li>Thursday has maximum orders.</li>\n",
    "    <li>Other days of the week also have high number of orders.</li>\n",
    "    <li>Friday has slighty less orders.</li>\n",
    "    <li>There are no orders on Saturday so we can assume that the company doesn't accept orders on Saturday.</li>\n",
    "</ul>\n"
   ]
  },
  {
   "cell_type": "code",
   "execution_count": 29,
   "metadata": {},
   "outputs": [
    {
     "data": {
      "text/plain": [
       "StockCode\n",
       "3681    38970.000\n",
       "3679     1867.860\n",
       "3680     1599.260\n",
       "3678     1100.440\n",
       "3683      700.000\n",
       "          ...    \n",
       "26          0.120\n",
       "33          0.120\n",
       "89          0.100\n",
       "44          0.100\n",
       "3682        0.001\n",
       "Name: UnitPrice, Length: 3544, dtype: float64"
      ]
     },
     "execution_count": 29,
     "metadata": {},
     "output_type": "execute_result"
    }
   ],
   "source": [
    "# Product which brings most revenue\n",
    "\n",
    "most_revenue = df.groupby('StockCode')['UnitPrice'].max()\n",
    "most_revenue.sort_values(ascending=False)"
   ]
  },
  {
   "cell_type": "markdown",
   "metadata": {},
   "source": [
    "<b>Inferences:-</b>\n",
    "\n",
    "<ul>\n",
    "    <li>Product with label 3681 brings the most revenue.</li>\n",
    "    <li>Other products with label 3679, 3680, 3678 also bring good revenue.</li>\n",
    "    <li>Products with label 26, 33, 89, 44 and 3682 bring minimum revenue.</li>\n",
    "</ul>"
   ]
  },
  {
   "cell_type": "code",
   "execution_count": 30,
   "metadata": {},
   "outputs": [
    {
     "data": {
      "text/plain": [
       "StockCode\n",
       "3249    1016\n",
       "1292     874\n",
       "3235     845\n",
       "3069     709\n",
       "170      687\n",
       "        ... \n",
       "2432       1\n",
       "3340       1\n",
       "3341       1\n",
       "3538       1\n",
       "3524       1\n",
       "Name: Quantity, Length: 3544, dtype: int64"
      ]
     },
     "execution_count": 30,
     "metadata": {},
     "output_type": "execute_result"
    }
   ],
   "source": [
    "# Product which is bought maximum\n",
    "\n",
    "max_product = df.groupby('StockCode')[\"Quantity\"].count()\n",
    "max_product.sort_values(ascending=False)"
   ]
  },
  {
   "cell_type": "markdown",
   "metadata": {},
   "source": [
    "<b>Inferences:-</b>\n",
    "\n",
    "<ul>\n",
    "    <li>Product with label 3249 has the maximum count which means that it is in high demand.</li>\n",
    "    <li>There are some products with count as 1 indicating that it is not used much.</li>\n",
    "</ul>"
   ]
  },
  {
   "cell_type": "markdown",
   "metadata": {},
   "source": [
    "### Data Visualization"
   ]
  },
  {
   "cell_type": "code",
   "execution_count": 31,
   "metadata": {},
   "outputs": [
    {
     "data": {
      "text/plain": [
       "<matplotlib.axes._subplots.AxesSubplot at 0x1f180cb0760>"
      ]
     },
     "execution_count": 31,
     "metadata": {},
     "output_type": "execute_result"
    },
    {
     "data": {
      "image/png": "[encoded data removed]",
      "text/plain": [
       "<Figure size 432x288 with 1 Axes>"
      ]
     },
     "metadata": {
      "needs_background": "light"
     },
     "output_type": "display_data"
    }
   ],
   "source": [
    "# Top 10 countries sales count wise in the cleaned up data\n",
    "\n",
    "df['Country'].value_counts().head(10).plot(kind='bar')"
   ]
  },
  {
   "cell_type": "markdown",
   "metadata": {},
   "source": [
    "<b>Observations:-</b>\n",
    "\n",
    "<ul>\n",
    "    <li>Country with label 35 has highest orders.</li>\n",
    "    <li>Other countries with labels 14, 13, 10 have less orders if compared with label 35 but more than other countries.</li>\n",
    "</ul>"
   ]
  },
  {
   "cell_type": "code",
   "execution_count": 32,
   "metadata": {},
   "outputs": [
    {
     "name": "stderr",
     "output_type": "stream",
     "text": [
      "<ipython-input-32-83eda241d8b8>:6: SettingWithCopyWarning: \n",
      "A value is trying to be set on a copy of a slice from a DataFrame.\n",
      "Try using .loc[row_indexer,col_indexer] = value instead\n",
      "\n",
      "See the caveats in the documentation: https://pandas.pydata.org/pandas-docs/stable/user_guide/indexing.html#returning-a-view-versus-a-copy\n",
      "  neg_qty[\"TotalAmount\"] = abs(neg_qty[\"TotalAmount\"])\n"
     ]
    },
    {
     "data": {
      "text/plain": [
       "<matplotlib.axes._subplots.AxesSubplot at 0x1f180cb0370>"
      ]
     },
     "execution_count": 32,
     "metadata": {},
     "output_type": "execute_result"
    },
    {
     "data": {
      "image/png": "[encoded data removed]",
      "text/plain": [
       "<Figure size 504x720 with 1 Axes>"
      ]
     },
     "metadata": {
      "needs_background": "light"
     },
     "output_type": "display_data"
    }
   ],
   "source": [
    "# Find the Product which has more contribution to negative quantity values\n",
    "\n",
    "fig, ax = plt.subplots(figsize=(7,10))\n",
    "\n",
    "neg_qty = df[df[\"Quantity\"]<0]\n",
    "neg_qty[\"TotalAmount\"] = abs(neg_qty[\"TotalAmount\"])\n",
    "\n",
    "x = neg_qty[[\"Description\",\"TotalAmount\"]]\n",
    "x.groupby(\"Description\")[\"TotalAmount\"].sum().sort_values(ascending=True).tail(30).plot.barh(ax=ax)"
   ]
  },
  {
   "cell_type": "markdown",
   "metadata": {},
   "source": [
    "<b>Observation:-</b>\n",
    "\n",
    "<ul>\n",
    "    <li>Product with label 2329 and 2140 have major contribution to negative values.</li>\n",
    "    <li>Product labels 2780, 3716, 2307, 1018, 1066, 3436, 826 and 1208 also have significant contribution.</li>\n",
    "    <li>These returns may be due to defect in the product, late delivery by the company or some other reason.</li>\n",
    "</ul>\n",
    " "
   ]
  },
  {
   "cell_type": "code",
   "execution_count": 33,
   "metadata": {},
   "outputs": [
    {
     "data": {
      "image/png": "[encoded data removed]",
      "text/plain": [
       "<Figure size 720x1440 with 2 Axes>"
      ]
     },
     "metadata": {
      "needs_background": "light"
     },
     "output_type": "display_data"
    }
   ],
   "source": [
    "# Revenue and Quantity sold country wise\n",
    "\n",
    "reg = df[df['TotalAmount']>=0].groupby('Country').agg({'TotalAmount':'sum',\n",
    "                                                  'Quantity': 'sum'})\n",
    "\n",
    "\n",
    "fig, ax = plt.subplots(nrows=2, ncols=1, figsize=(10,20))\n",
    "\n",
    "g1 = sns.barplot(x=reg['TotalAmount'], y=reg.index, alpha=1, ax=ax[0],palette='Reds', orient='h')\n",
    "g2 = sns.barplot(x=reg['Quantity'], y=reg.index, alpha=1, ax=ax[1], palette='Greens',orient='h')\n",
    "\n",
    "ax[1].title.set_text('Quantity Sold by Country')\n",
    "ax[1].set_xlabel(\"Quantity (Log Scale)\")\n",
    "\n",
    "ax[0].title.set_text('Revenue by Country')\n",
    "ax[0].set_xlabel(\"Revenue (Log Scale)\")\n",
    "\n",
    "g1.set_xscale(\"log\")\n",
    "g2.set_xscale(\"log\")"
   ]
  },
  {
   "cell_type": "markdown",
   "metadata": {},
   "source": [
    "<b>Observation:-</b>\n",
    "\n",
    "<ul>\n",
    "    <li>Country with label 35 has maximum revenue and sales.</li>\n",
    "    <li>Other countries with labels 23, 10, 14, 13 also have good sales and revenue.</li>\n",
    "    <li>It can be assumed that the company is located in Country 35 as it performs very well there.</li>\n",
    "    <li>It can also be assumed that the company doesn't perform very well internationally as it's revenue and sales are quite low in many countries.</li>\n",
    "</ul>"
   ]
  },
  {
   "cell_type": "code",
   "execution_count": 34,
   "metadata": {},
   "outputs": [
    {
     "name": "stderr",
     "output_type": "stream",
     "text": [
      "<ipython-input-34-669a92f759c0>:6: SettingWithCopyWarning: \n",
      "A value is trying to be set on a copy of a slice from a DataFrame.\n",
      "Try using .loc[row_indexer,col_indexer] = value instead\n",
      "\n",
      "See the caveats in the documentation: https://pandas.pydata.org/pandas-docs/stable/user_guide/indexing.html#returning-a-view-versus-a-copy\n",
      "  rev['Transactions Count'] = 1\n"
     ]
    },
    {
     "data": {
      "image/png": "[encoded data removed]",
      "text/plain": [
       "<Figure size 1080x864 with 2 Axes>"
      ]
     },
     "metadata": {
      "needs_background": "light"
     },
     "output_type": "display_data"
    }
   ],
   "source": [
    "# Revenue and Sales by Month\n",
    "\n",
    "fig, ax = plt.subplots(nrows=2, ncols=1,figsize=(15,12))\n",
    "\n",
    "rev = df[(df['TotalAmount']>0)&(df['InvoiceDate'].dt.year==2011)]\n",
    "rev['Transactions Count'] = 1\n",
    "rev = rev.groupby(rev['InvoiceDate'].dt.month).agg({'TotalAmount':'sum',\n",
    "                                                  'Quantity': 'sum'})\n",
    "rev = rev.reset_index()\n",
    "rev['Month'] = rev['InvoiceDate'].apply(lambda x: calendar.month_abbr[x])\n",
    "rev = rev.rename({'TotalAmount':'Revenue'},axis=1)\n",
    "\n",
    "sns.set_style(\"whitegrid\")\n",
    "sns.barplot(data=rev, x=rev.Month, y='Revenue', palette='magma_r', ax=ax[0])\n",
    "ax[0].title.set_text('Revenue by Months')\n",
    "\n",
    "sns.barplot(data=rev, x=rev.Month, y='Quantity',  palette='ocean', ax=ax[1])\n",
    "ax[1].title.set_text('Quantity Sold by Months')"
   ]
  },
  {
   "cell_type": "markdown",
   "metadata": {},
   "source": [
    "<b>Observation:-</b>\n",
    "\n",
    "<ul>\n",
    "    <li>The revenue and sales are highest in the month of November.</li>\n",
    "    <li>September and October also have impressive revenue and sales.</li>\n",
    "    <li>Other months have good revenue and sales while December has the lowest revenue and sales.</li>\n",
    "</ul>"
   ]
  },
  {
   "cell_type": "code",
   "execution_count": 35,
   "metadata": {},
   "outputs": [
    {
     "data": {
      "text/html": [
       "<style  type=\"text/css\" >\n",
       "    #T_c723c47f_aa9b_11eb_b456_d284f824b0b8row0_col0 {\n",
       "            background-color:  #023858;\n",
       "            color:  #f1f1f1;\n",
       "        }    #T_c723c47f_aa9b_11eb_b456_d284f824b0b8row0_col1 {\n",
       "            background-color:  #f1ebf4;\n",
       "            color:  #000000;\n",
       "        }    #T_c723c47f_aa9b_11eb_b456_d284f824b0b8row0_col2 {\n",
       "            background-color:  #f9f2f8;\n",
       "            color:  #000000;\n",
       "        }    #T_c723c47f_aa9b_11eb_b456_d284f824b0b8row0_col3 {\n",
       "            background-color:  #fff7fb;\n",
       "            color:  #000000;\n",
       "        }    #T_c723c47f_aa9b_11eb_b456_d284f824b0b8row0_col4 {\n",
       "            background-color:  #fff7fb;\n",
       "            color:  #000000;\n",
       "        }    #T_c723c47f_aa9b_11eb_b456_d284f824b0b8row0_col5 {\n",
       "            background-color:  #fdf5fa;\n",
       "            color:  #000000;\n",
       "        }    #T_c723c47f_aa9b_11eb_b456_d284f824b0b8row0_col6 {\n",
       "            background-color:  #e2dfee;\n",
       "            color:  #000000;\n",
       "        }    #T_c723c47f_aa9b_11eb_b456_d284f824b0b8row0_col7 {\n",
       "            background-color:  #e6e2ef;\n",
       "            color:  #000000;\n",
       "        }    #T_c723c47f_aa9b_11eb_b456_d284f824b0b8row1_col0 {\n",
       "            background-color:  #f0eaf4;\n",
       "            color:  #000000;\n",
       "        }    #T_c723c47f_aa9b_11eb_b456_d284f824b0b8row1_col1 {\n",
       "            background-color:  #023858;\n",
       "            color:  #f1f1f1;\n",
       "        }    #T_c723c47f_aa9b_11eb_b456_d284f824b0b8row1_col2 {\n",
       "            background-color:  #fff7fb;\n",
       "            color:  #000000;\n",
       "        }    #T_c723c47f_aa9b_11eb_b456_d284f824b0b8row1_col3 {\n",
       "            background-color:  #fef6fa;\n",
       "            color:  #000000;\n",
       "        }    #T_c723c47f_aa9b_11eb_b456_d284f824b0b8row1_col4 {\n",
       "            background-color:  #fef6fa;\n",
       "            color:  #000000;\n",
       "        }    #T_c723c47f_aa9b_11eb_b456_d284f824b0b8row1_col5 {\n",
       "            background-color:  #fcf4fa;\n",
       "            color:  #000000;\n",
       "        }    #T_c723c47f_aa9b_11eb_b456_d284f824b0b8row1_col6 {\n",
       "            background-color:  #e0dded;\n",
       "            color:  #000000;\n",
       "        }    #T_c723c47f_aa9b_11eb_b456_d284f824b0b8row1_col7 {\n",
       "            background-color:  #e3e0ee;\n",
       "            color:  #000000;\n",
       "        }    #T_c723c47f_aa9b_11eb_b456_d284f824b0b8row2_col0 {\n",
       "            background-color:  #f9f2f8;\n",
       "            color:  #000000;\n",
       "        }    #T_c723c47f_aa9b_11eb_b456_d284f824b0b8row2_col1 {\n",
       "            background-color:  #fff7fb;\n",
       "            color:  #000000;\n",
       "        }    #T_c723c47f_aa9b_11eb_b456_d284f824b0b8row2_col2 {\n",
       "            background-color:  #023858;\n",
       "            color:  #f1f1f1;\n",
       "        }    #T_c723c47f_aa9b_11eb_b456_d284f824b0b8row2_col3 {\n",
       "            background-color:  #fef6fa;\n",
       "            color:  #000000;\n",
       "        }    #T_c723c47f_aa9b_11eb_b456_d284f824b0b8row2_col4 {\n",
       "            background-color:  #fef6fb;\n",
       "            color:  #000000;\n",
       "        }    #T_c723c47f_aa9b_11eb_b456_d284f824b0b8row2_col5 {\n",
       "            background-color:  #fff7fb;\n",
       "            color:  #000000;\n",
       "        }    #T_c723c47f_aa9b_11eb_b456_d284f824b0b8row2_col6 {\n",
       "            background-color:  #e3e0ee;\n",
       "            color:  #000000;\n",
       "        }    #T_c723c47f_aa9b_11eb_b456_d284f824b0b8row2_col7 {\n",
       "            background-color:  #e3e0ee;\n",
       "            color:  #000000;\n",
       "        }    #T_c723c47f_aa9b_11eb_b456_d284f824b0b8row3_col0 {\n",
       "            background-color:  #fff7fb;\n",
       "            color:  #000000;\n",
       "        }    #T_c723c47f_aa9b_11eb_b456_d284f824b0b8row3_col1 {\n",
       "            background-color:  #fef6fa;\n",
       "            color:  #000000;\n",
       "        }    #T_c723c47f_aa9b_11eb_b456_d284f824b0b8row3_col2 {\n",
       "            background-color:  #fdf5fa;\n",
       "            color:  #000000;\n",
       "        }    #T_c723c47f_aa9b_11eb_b456_d284f824b0b8row3_col3 {\n",
       "            background-color:  #023858;\n",
       "            color:  #f1f1f1;\n",
       "        }    #T_c723c47f_aa9b_11eb_b456_d284f824b0b8row3_col4 {\n",
       "            background-color:  #fff7fb;\n",
       "            color:  #000000;\n",
       "        }    #T_c723c47f_aa9b_11eb_b456_d284f824b0b8row3_col5 {\n",
       "            background-color:  #fef6fb;\n",
       "            color:  #000000;\n",
       "        }    #T_c723c47f_aa9b_11eb_b456_d284f824b0b8row3_col6 {\n",
       "            background-color:  #e3e0ee;\n",
       "            color:  #000000;\n",
       "        }    #T_c723c47f_aa9b_11eb_b456_d284f824b0b8row3_col7 {\n",
       "            background-color:  #034a74;\n",
       "            color:  #f1f1f1;\n",
       "        }    #T_c723c47f_aa9b_11eb_b456_d284f824b0b8row4_col0 {\n",
       "            background-color:  #fef6fb;\n",
       "            color:  #000000;\n",
       "        }    #T_c723c47f_aa9b_11eb_b456_d284f824b0b8row4_col1 {\n",
       "            background-color:  #fdf5fa;\n",
       "            color:  #000000;\n",
       "        }    #T_c723c47f_aa9b_11eb_b456_d284f824b0b8row4_col2 {\n",
       "            background-color:  #fef6fa;\n",
       "            color:  #000000;\n",
       "        }    #T_c723c47f_aa9b_11eb_b456_d284f824b0b8row4_col3 {\n",
       "            background-color:  #fef6fb;\n",
       "            color:  #000000;\n",
       "        }    #T_c723c47f_aa9b_11eb_b456_d284f824b0b8row4_col4 {\n",
       "            background-color:  #023858;\n",
       "            color:  #f1f1f1;\n",
       "        }    #T_c723c47f_aa9b_11eb_b456_d284f824b0b8row4_col5 {\n",
       "            background-color:  #9cb9d9;\n",
       "            color:  #000000;\n",
       "        }    #T_c723c47f_aa9b_11eb_b456_d284f824b0b8row4_col6 {\n",
       "            background-color:  #e4e1ef;\n",
       "            color:  #000000;\n",
       "        }    #T_c723c47f_aa9b_11eb_b456_d284f824b0b8row4_col7 {\n",
       "            background-color:  #e4e1ef;\n",
       "            color:  #000000;\n",
       "        }    #T_c723c47f_aa9b_11eb_b456_d284f824b0b8row5_col0 {\n",
       "            background-color:  #fdf5fa;\n",
       "            color:  #000000;\n",
       "        }    #T_c723c47f_aa9b_11eb_b456_d284f824b0b8row5_col1 {\n",
       "            background-color:  #fdf5fa;\n",
       "            color:  #000000;\n",
       "        }    #T_c723c47f_aa9b_11eb_b456_d284f824b0b8row5_col2 {\n",
       "            background-color:  #fff7fb;\n",
       "            color:  #000000;\n",
       "        }    #T_c723c47f_aa9b_11eb_b456_d284f824b0b8row5_col3 {\n",
       "            background-color:  #fff7fb;\n",
       "            color:  #000000;\n",
       "        }    #T_c723c47f_aa9b_11eb_b456_d284f824b0b8row5_col4 {\n",
       "            background-color:  #9ebad9;\n",
       "            color:  #000000;\n",
       "        }    #T_c723c47f_aa9b_11eb_b456_d284f824b0b8row5_col5 {\n",
       "            background-color:  #023858;\n",
       "            color:  #f1f1f1;\n",
       "        }    #T_c723c47f_aa9b_11eb_b456_d284f824b0b8row5_col6 {\n",
       "            background-color:  #e4e1ef;\n",
       "            color:  #000000;\n",
       "        }    #T_c723c47f_aa9b_11eb_b456_d284f824b0b8row5_col7 {\n",
       "            background-color:  #e5e1ef;\n",
       "            color:  #000000;\n",
       "        }    #T_c723c47f_aa9b_11eb_b456_d284f824b0b8row6_col0 {\n",
       "            background-color:  #fcf4fa;\n",
       "            color:  #000000;\n",
       "        }    #T_c723c47f_aa9b_11eb_b456_d284f824b0b8row6_col1 {\n",
       "            background-color:  #fbf3f9;\n",
       "            color:  #000000;\n",
       "        }    #T_c723c47f_aa9b_11eb_b456_d284f824b0b8row6_col2 {\n",
       "            background-color:  #fdf5fa;\n",
       "            color:  #000000;\n",
       "        }    #T_c723c47f_aa9b_11eb_b456_d284f824b0b8row6_col3 {\n",
       "            background-color:  #fef6fa;\n",
       "            color:  #000000;\n",
       "        }    #T_c723c47f_aa9b_11eb_b456_d284f824b0b8row6_col4 {\n",
       "            background-color:  #fef6fb;\n",
       "            color:  #000000;\n",
       "        }    #T_c723c47f_aa9b_11eb_b456_d284f824b0b8row6_col5 {\n",
       "            background-color:  #fef6fa;\n",
       "            color:  #000000;\n",
       "        }    #T_c723c47f_aa9b_11eb_b456_d284f824b0b8row6_col6 {\n",
       "            background-color:  #023858;\n",
       "            color:  #f1f1f1;\n",
       "        }    #T_c723c47f_aa9b_11eb_b456_d284f824b0b8row6_col7 {\n",
       "            background-color:  #fff7fb;\n",
       "            color:  #000000;\n",
       "        }    #T_c723c47f_aa9b_11eb_b456_d284f824b0b8row7_col0 {\n",
       "            background-color:  #fff7fb;\n",
       "            color:  #000000;\n",
       "        }    #T_c723c47f_aa9b_11eb_b456_d284f824b0b8row7_col1 {\n",
       "            background-color:  #fdf5fa;\n",
       "            color:  #000000;\n",
       "        }    #T_c723c47f_aa9b_11eb_b456_d284f824b0b8row7_col2 {\n",
       "            background-color:  #fdf5fa;\n",
       "            color:  #000000;\n",
       "        }    #T_c723c47f_aa9b_11eb_b456_d284f824b0b8row7_col3 {\n",
       "            background-color:  #034e7b;\n",
       "            color:  #f1f1f1;\n",
       "        }    #T_c723c47f_aa9b_11eb_b456_d284f824b0b8row7_col4 {\n",
       "            background-color:  #fff7fb;\n",
       "            color:  #000000;\n",
       "        }    #T_c723c47f_aa9b_11eb_b456_d284f824b0b8row7_col5 {\n",
       "            background-color:  #fff7fb;\n",
       "            color:  #000000;\n",
       "        }    #T_c723c47f_aa9b_11eb_b456_d284f824b0b8row7_col6 {\n",
       "            background-color:  #fff7fb;\n",
       "            color:  #000000;\n",
       "        }    #T_c723c47f_aa9b_11eb_b456_d284f824b0b8row7_col7 {\n",
       "            background-color:  #023858;\n",
       "            color:  #f1f1f1;\n",
       "        }</style><table id=\"T_c723c47f_aa9b_11eb_b456_d284f824b0b8\" ><thead>    <tr>        <th class=\"blank level0\" ></th>        <th class=\"col_heading level0 col0\" >InvoiceNo</th>        <th class=\"col_heading level0 col1\" >StockCode</th>        <th class=\"col_heading level0 col2\" >Description</th>        <th class=\"col_heading level0 col3\" >Quantity</th>        <th class=\"col_heading level0 col4\" >CustomerID</th>        <th class=\"col_heading level0 col5\" >Country</th>        <th class=\"col_heading level0 col6\" >UnitPrice</th>        <th class=\"col_heading level0 col7\" >TotalAmount</th>    </tr></thead><tbody>\n",
       "                <tr>\n",
       "                        <th id=\"T_c723c47f_aa9b_11eb_b456_d284f824b0b8level0_row0\" class=\"row_heading level0 row0\" >InvoiceNo</th>\n",
       "                        <td id=\"T_c723c47f_aa9b_11eb_b456_d284f824b0b8row0_col0\" class=\"data row0 col0\" >1.00</td>\n",
       "                        <td id=\"T_c723c47f_aa9b_11eb_b456_d284f824b0b8row0_col1\" class=\"data row0 col1\" >0.09</td>\n",
       "                        <td id=\"T_c723c47f_aa9b_11eb_b456_d284f824b0b8row0_col2\" class=\"data row0 col2\" >0.03</td>\n",
       "                        <td id=\"T_c723c47f_aa9b_11eb_b456_d284f824b0b8row0_col3\" class=\"data row0 col3\" >-0.01</td>\n",
       "                        <td id=\"T_c723c47f_aa9b_11eb_b456_d284f824b0b8row0_col4\" class=\"data row0 col4\" >-0.01</td>\n",
       "                        <td id=\"T_c723c47f_aa9b_11eb_b456_d284f824b0b8row0_col5\" class=\"data row0 col5\" >0.00</td>\n",
       "                        <td id=\"T_c723c47f_aa9b_11eb_b456_d284f824b0b8row0_col6\" class=\"data row0 col6\" >0.01</td>\n",
       "                        <td id=\"T_c723c47f_aa9b_11eb_b456_d284f824b0b8row0_col7\" class=\"data row0 col7\" >-0.01</td>\n",
       "            </tr>\n",
       "            <tr>\n",
       "                        <th id=\"T_c723c47f_aa9b_11eb_b456_d284f824b0b8level0_row1\" class=\"row_heading level0 row1\" >StockCode</th>\n",
       "                        <td id=\"T_c723c47f_aa9b_11eb_b456_d284f824b0b8row1_col0\" class=\"data row1 col0\" >0.09</td>\n",
       "                        <td id=\"T_c723c47f_aa9b_11eb_b456_d284f824b0b8row1_col1\" class=\"data row1 col1\" >1.00</td>\n",
       "                        <td id=\"T_c723c47f_aa9b_11eb_b456_d284f824b0b8row1_col2\" class=\"data row1 col2\" >-0.01</td>\n",
       "                        <td id=\"T_c723c47f_aa9b_11eb_b456_d284f824b0b8row1_col3\" class=\"data row1 col3\" >-0.00</td>\n",
       "                        <td id=\"T_c723c47f_aa9b_11eb_b456_d284f824b0b8row1_col4\" class=\"data row1 col4\" >0.00</td>\n",
       "                        <td id=\"T_c723c47f_aa9b_11eb_b456_d284f824b0b8row1_col5\" class=\"data row1 col5\" >0.01</td>\n",
       "                        <td id=\"T_c723c47f_aa9b_11eb_b456_d284f824b0b8row1_col6\" class=\"data row1 col6\" >0.02</td>\n",
       "                        <td id=\"T_c723c47f_aa9b_11eb_b456_d284f824b0b8row1_col7\" class=\"data row1 col7\" >0.00</td>\n",
       "            </tr>\n",
       "            <tr>\n",
       "                        <th id=\"T_c723c47f_aa9b_11eb_b456_d284f824b0b8level0_row2\" class=\"row_heading level0 row2\" >Description</th>\n",
       "                        <td id=\"T_c723c47f_aa9b_11eb_b456_d284f824b0b8row2_col0\" class=\"data row2 col0\" >0.03</td>\n",
       "                        <td id=\"T_c723c47f_aa9b_11eb_b456_d284f824b0b8row2_col1\" class=\"data row2 col1\" >-0.01</td>\n",
       "                        <td id=\"T_c723c47f_aa9b_11eb_b456_d284f824b0b8row2_col2\" class=\"data row2 col2\" >1.00</td>\n",
       "                        <td id=\"T_c723c47f_aa9b_11eb_b456_d284f824b0b8row2_col3\" class=\"data row2 col3\" >-0.00</td>\n",
       "                        <td id=\"T_c723c47f_aa9b_11eb_b456_d284f824b0b8row2_col4\" class=\"data row2 col4\" >-0.00</td>\n",
       "                        <td id=\"T_c723c47f_aa9b_11eb_b456_d284f824b0b8row2_col5\" class=\"data row2 col5\" >-0.01</td>\n",
       "                        <td id=\"T_c723c47f_aa9b_11eb_b456_d284f824b0b8row2_col6\" class=\"data row2 col6\" >-0.00</td>\n",
       "                        <td id=\"T_c723c47f_aa9b_11eb_b456_d284f824b0b8row2_col7\" class=\"data row2 col7\" >-0.00</td>\n",
       "            </tr>\n",
       "            <tr>\n",
       "                        <th id=\"T_c723c47f_aa9b_11eb_b456_d284f824b0b8level0_row3\" class=\"row_heading level0 row3\" >Quantity</th>\n",
       "                        <td id=\"T_c723c47f_aa9b_11eb_b456_d284f824b0b8row3_col0\" class=\"data row3 col0\" >-0.01</td>\n",
       "                        <td id=\"T_c723c47f_aa9b_11eb_b456_d284f824b0b8row3_col1\" class=\"data row3 col1\" >-0.00</td>\n",
       "                        <td id=\"T_c723c47f_aa9b_11eb_b456_d284f824b0b8row3_col2\" class=\"data row3 col2\" >-0.00</td>\n",
       "                        <td id=\"T_c723c47f_aa9b_11eb_b456_d284f824b0b8row3_col3\" class=\"data row3 col3\" >1.00</td>\n",
       "                        <td id=\"T_c723c47f_aa9b_11eb_b456_d284f824b0b8row3_col4\" class=\"data row3 col4\" >-0.01</td>\n",
       "                        <td id=\"T_c723c47f_aa9b_11eb_b456_d284f824b0b8row3_col5\" class=\"data row3 col5\" >-0.01</td>\n",
       "                        <td id=\"T_c723c47f_aa9b_11eb_b456_d284f824b0b8row3_col6\" class=\"data row3 col6\" >-0.00</td>\n",
       "                        <td id=\"T_c723c47f_aa9b_11eb_b456_d284f824b0b8row3_col7\" class=\"data row3 col7\" >0.92</td>\n",
       "            </tr>\n",
       "            <tr>\n",
       "                        <th id=\"T_c723c47f_aa9b_11eb_b456_d284f824b0b8level0_row4\" class=\"row_heading level0 row4\" >CustomerID</th>\n",
       "                        <td id=\"T_c723c47f_aa9b_11eb_b456_d284f824b0b8row4_col0\" class=\"data row4 col0\" >-0.01</td>\n",
       "                        <td id=\"T_c723c47f_aa9b_11eb_b456_d284f824b0b8row4_col1\" class=\"data row4 col1\" >0.00</td>\n",
       "                        <td id=\"T_c723c47f_aa9b_11eb_b456_d284f824b0b8row4_col2\" class=\"data row4 col2\" >-0.00</td>\n",
       "                        <td id=\"T_c723c47f_aa9b_11eb_b456_d284f824b0b8row4_col3\" class=\"data row4 col3\" >-0.01</td>\n",
       "                        <td id=\"T_c723c47f_aa9b_11eb_b456_d284f824b0b8row4_col4\" class=\"data row4 col4\" >1.00</td>\n",
       "                        <td id=\"T_c723c47f_aa9b_11eb_b456_d284f824b0b8row4_col5\" class=\"data row4 col5\" >0.39</td>\n",
       "                        <td id=\"T_c723c47f_aa9b_11eb_b456_d284f824b0b8row4_col6\" class=\"data row4 col6\" >-0.00</td>\n",
       "                        <td id=\"T_c723c47f_aa9b_11eb_b456_d284f824b0b8row4_col7\" class=\"data row4 col7\" >-0.01</td>\n",
       "            </tr>\n",
       "            <tr>\n",
       "                        <th id=\"T_c723c47f_aa9b_11eb_b456_d284f824b0b8level0_row5\" class=\"row_heading level0 row5\" >Country</th>\n",
       "                        <td id=\"T_c723c47f_aa9b_11eb_b456_d284f824b0b8row5_col0\" class=\"data row5 col0\" >0.00</td>\n",
       "                        <td id=\"T_c723c47f_aa9b_11eb_b456_d284f824b0b8row5_col1\" class=\"data row5 col1\" >0.01</td>\n",
       "                        <td id=\"T_c723c47f_aa9b_11eb_b456_d284f824b0b8row5_col2\" class=\"data row5 col2\" >-0.01</td>\n",
       "                        <td id=\"T_c723c47f_aa9b_11eb_b456_d284f824b0b8row5_col3\" class=\"data row5 col3\" >-0.01</td>\n",
       "                        <td id=\"T_c723c47f_aa9b_11eb_b456_d284f824b0b8row5_col4\" class=\"data row5 col4\" >0.39</td>\n",
       "                        <td id=\"T_c723c47f_aa9b_11eb_b456_d284f824b0b8row5_col5\" class=\"data row5 col5\" >1.00</td>\n",
       "                        <td id=\"T_c723c47f_aa9b_11eb_b456_d284f824b0b8row5_col6\" class=\"data row5 col6\" >-0.00</td>\n",
       "                        <td id=\"T_c723c47f_aa9b_11eb_b456_d284f824b0b8row5_col7\" class=\"data row5 col7\" >-0.01</td>\n",
       "            </tr>\n",
       "            <tr>\n",
       "                        <th id=\"T_c723c47f_aa9b_11eb_b456_d284f824b0b8level0_row6\" class=\"row_heading level0 row6\" >UnitPrice</th>\n",
       "                        <td id=\"T_c723c47f_aa9b_11eb_b456_d284f824b0b8row6_col0\" class=\"data row6 col0\" >0.01</td>\n",
       "                        <td id=\"T_c723c47f_aa9b_11eb_b456_d284f824b0b8row6_col1\" class=\"data row6 col1\" >0.02</td>\n",
       "                        <td id=\"T_c723c47f_aa9b_11eb_b456_d284f824b0b8row6_col2\" class=\"data row6 col2\" >-0.00</td>\n",
       "                        <td id=\"T_c723c47f_aa9b_11eb_b456_d284f824b0b8row6_col3\" class=\"data row6 col3\" >-0.00</td>\n",
       "                        <td id=\"T_c723c47f_aa9b_11eb_b456_d284f824b0b8row6_col4\" class=\"data row6 col4\" >-0.00</td>\n",
       "                        <td id=\"T_c723c47f_aa9b_11eb_b456_d284f824b0b8row6_col5\" class=\"data row6 col5\" >-0.00</td>\n",
       "                        <td id=\"T_c723c47f_aa9b_11eb_b456_d284f824b0b8row6_col6\" class=\"data row6 col6\" >1.00</td>\n",
       "                        <td id=\"T_c723c47f_aa9b_11eb_b456_d284f824b0b8row6_col7\" class=\"data row6 col7\" >-0.20</td>\n",
       "            </tr>\n",
       "            <tr>\n",
       "                        <th id=\"T_c723c47f_aa9b_11eb_b456_d284f824b0b8level0_row7\" class=\"row_heading level0 row7\" >TotalAmount</th>\n",
       "                        <td id=\"T_c723c47f_aa9b_11eb_b456_d284f824b0b8row7_col0\" class=\"data row7 col0\" >-0.01</td>\n",
       "                        <td id=\"T_c723c47f_aa9b_11eb_b456_d284f824b0b8row7_col1\" class=\"data row7 col1\" >0.00</td>\n",
       "                        <td id=\"T_c723c47f_aa9b_11eb_b456_d284f824b0b8row7_col2\" class=\"data row7 col2\" >-0.00</td>\n",
       "                        <td id=\"T_c723c47f_aa9b_11eb_b456_d284f824b0b8row7_col3\" class=\"data row7 col3\" >0.92</td>\n",
       "                        <td id=\"T_c723c47f_aa9b_11eb_b456_d284f824b0b8row7_col4\" class=\"data row7 col4\" >-0.01</td>\n",
       "                        <td id=\"T_c723c47f_aa9b_11eb_b456_d284f824b0b8row7_col5\" class=\"data row7 col5\" >-0.01</td>\n",
       "                        <td id=\"T_c723c47f_aa9b_11eb_b456_d284f824b0b8row7_col6\" class=\"data row7 col6\" >-0.20</td>\n",
       "                        <td id=\"T_c723c47f_aa9b_11eb_b456_d284f824b0b8row7_col7\" class=\"data row7 col7\" >1.00</td>\n",
       "            </tr>\n",
       "    </tbody></table>"
      ],
      "text/plain": [
       "<pandas.io.formats.style.Styler at 0x1f182540b50>"
      ]
     },
     "execution_count": 35,
     "metadata": {},
     "output_type": "execute_result"
    }
   ],
   "source": [
    "# PLot Correlation Matrix\n",
    "\n",
    "corr = df.corr()\n",
    "corr.style.background_gradient(cmap='PuBu').set_precision(2)"
   ]
  },
  {
   "cell_type": "markdown",
   "metadata": {},
   "source": [
    "<b>Observation:-</b>\n",
    "\n",
    "<ul>\n",
    "    <li>There is almost no relation between any attributes except for one.</li>\n",
    "    <li>There is a Positive relation of 0.92 between Quantity and TotalAmount attributes. It indicates that when customer buys more products their total amount inreases.</li>\n",
    "</ul>"
   ]
  },
  {
   "cell_type": "code",
   "execution_count": 36,
   "metadata": {},
   "outputs": [
    {
     "data": {
      "text/plain": [
       "<matplotlib.collections.PathCollection at 0x1f1838520a0>"
      ]
     },
     "execution_count": 36,
     "metadata": {},
     "output_type": "execute_result"
    },
    {
     "data": {
      "image/png": "[encoded data removed]",
      "text/plain": [
       "<Figure size 1080x360 with 1 Axes>"
      ]
     },
     "metadata": {},
     "output_type": "display_data"
    }
   ],
   "source": [
    "# Plotting the relation using scatter plot\n",
    "\n",
    "plt.figure(figsize=(15, 5))\n",
    "plt.scatter(df['Quantity'], df['TotalAmount'])"
   ]
  },
  {
   "cell_type": "markdown",
   "metadata": {},
   "source": [
    "<b>Recommendations from Exploratory Data Analysis:-</b>\n",
    "<ul>\n",
    "    <li>Providing bonus prizes or giving rewards to the customers with highest number of purchases.</li>\n",
    "    <li>Trying not to deliver damaged goods to the customers as it leads to returns.</li>\n",
    "    <li>Conducting annual sales and giving holiday discounts to customers to increase its revenue.</li>\n",
    "    <li>Increase the stock of products which are in demand.</li>\n",
    "    <li>As Thursday is the busiest weekday the company can increase its staff so that it has maximum sales.</li>\n",
    "</ul>"
   ]
  },
  {
   "cell_type": "markdown",
   "metadata": {},
   "source": [
    "### Model"
   ]
  },
  {
   "cell_type": "code",
   "execution_count": 37,
   "metadata": {},
   "outputs": [],
   "source": [
    "# convert datatype of InvoiceDate in DataFrame\n",
    "df['InvoiceDate'] = pd.to_datetime(df['InvoiceDate'],infer_datetime_format=True)\n",
    "df['InvoiceDate']=df['InvoiceDate'].apply(lambda x: x.toordinal())\n",
    "\n",
    "# Independent variable\n",
    "X_train = df.iloc[:, 0:7]\n",
    "\n",
    "# Depedent variable\n",
    "y_train = df.iloc[:, -1]"
   ]
  },
  {
   "cell_type": "code",
   "execution_count": 38,
   "metadata": {},
   "outputs": [],
   "source": [
    "X_test = test_data\n",
    "\n",
    "# convert datatype of InvoiceDate in X_test\n",
    "X_test['InvoiceDate'] = pd.to_datetime(X_test['InvoiceDate'],infer_datetime_format=True)\n",
    "X_test['InvoiceDate']=X_test['InvoiceDate'].apply(lambda x: x.toordinal())"
   ]
  },
  {
   "cell_type": "code",
   "execution_count": 39,
   "metadata": {},
   "outputs": [
    {
     "name": "stdout",
     "output_type": "stream",
     "text": [
      "(198667, 7) (84780, 7) (198667,)\n"
     ]
    }
   ],
   "source": [
    "# Shape of train and test dataset\n",
    "\n",
    "print(X_train.shape, X_test.shape, y_train.shape)"
   ]
  },
  {
   "cell_type": "code",
   "execution_count": 40,
   "metadata": {},
   "outputs": [],
   "source": [
    "# Implement Linear Regression\n",
    "from sklearn.linear_model import LinearRegression\n",
    "\n",
    "lin_reg = LinearRegression()\n",
    "lin_reg.fit(X_train, y_train)\n",
    "y_pred = lin_reg.predict(X_test)"
   ]
  },
  {
   "cell_type": "code",
   "execution_count": 41,
   "metadata": {},
   "outputs": [
    {
     "name": "stdout",
     "output_type": "stream",
     "text": [
      "intercept: -71734.62705636238\n",
      "coef_: [-2.15184012e-03  1.56878756e-03 -1.38819031e-04  1.57239466e+00\n",
      "  9.77114009e-02  5.52855602e-04 -1.84860027e-01]\n"
     ]
    }
   ],
   "source": [
    "# Regression Coefficient\n",
    "\n",
    "print(\"intercept:\", lin_reg.intercept_)\n",
    "print(\"coef_:\", lin_reg.coef_)"
   ]
  },
  {
   "cell_type": "code",
   "execution_count": 42,
   "metadata": {},
   "outputs": [
    {
     "data": {
      "text/plain": [
       "array([ 0.96978011,  4.14525379, 37.92769162, ...,  6.44513027,\n",
       "       76.20649585,  8.35127989])"
      ]
     },
     "execution_count": 42,
     "metadata": {},
     "output_type": "execute_result"
    }
   ],
   "source": [
    "# Predict values\n",
    "y_pred = lin_reg.predict(X_test)\n",
    "y_pred"
   ]
  }
 ],
 "metadata": {
  "kernelspec": {
   "display_name": "Python 3",
   "language": "python",
   "name": "python3"
  },
  "language_info": {
   "codemirror_mode": {
    "name": "ipython",
    "version": 3
   },
   "file_extension": ".py",
   "mimetype": "text/x-python",
   "name": "python",
   "nbconvert_exporter": "python",
   "pygments_lexer": "ipython3",
   "version": "3.8.3"
  }
 },
 "nbformat": 4,
 "nbformat_minor": 4
}
